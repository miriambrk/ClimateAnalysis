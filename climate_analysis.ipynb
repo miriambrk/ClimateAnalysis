{
 "cells": [
  {
   "cell_type": "code",
   "execution_count": 1,
   "metadata": {
    "collapsed": true
   },
   "outputs": [],
   "source": [
    "#dependencies\n",
    "import pandas as pd\n",
    "import sqlalchemy\n",
    "from sqlalchemy.ext.automap import automap_base\n",
    "from sqlalchemy.orm import Session\n",
    "from sqlalchemy import create_engine\n",
    "from sqlalchemy import func, and_\n",
    "import matplotlib.pyplot as plt\n",
    "import numpy as np\n",
    "import seaborn as sns\n",
    "from datetime import datetime, timedelta"
   ]
  },
  {
   "cell_type": "code",
   "execution_count": 2,
   "metadata": {
    "collapsed": true
   },
   "outputs": [],
   "source": [
    "#function to subtract one year from input date\n",
    "def date_minus_one_year (input_date):\n",
    "    year_earlier, month, day = input_date.split(\"-\")\n",
    "    year_earlier = str(int(year_earlier)-1)\n",
    "    new_date = year_earlier+'-'+month+'-'+day\n",
    "    return new_date"
   ]
  },
  {
   "cell_type": "code",
   "execution_count": 3,
   "metadata": {},
   "outputs": [
    {
     "name": "stdout",
     "output_type": "stream",
     "text": [
      "Input trip start date in format YYYY-MM-DD: 2016-03-01\n",
      "Input trip end date in format YYYY-MM-DD: 2016-03-15\n"
     ]
    }
   ],
   "source": [
    "#get valid user input trip dates\n",
    "valid_dates = False;\n",
    "while (valid_dates == False):\n",
    "    #set my trip dates and the previous year's dates\n",
    "    input_start_date = input(\"Input trip start date in format YYYY-MM-DD: \")\n",
    "    input_end_date = input(\"Input trip end date in format YYYY-MM-DD: \")\n",
    "    #ensure end after start\n",
    "    if (input_end_date < input_start_date):\n",
    "        print(\"Invalid dates; try again\")\n",
    "    else:\n",
    "        valid_dates = True\n",
    "        #set 1 year ago dates based on input dates\n",
    "        new_start_date = date_minus_one_year(input_start_date)\n",
    "        new_end_date = date_minus_one_year(input_end_date)"
   ]
  },
  {
   "cell_type": "code",
   "execution_count": 4,
   "metadata": {
    "collapsed": true
   },
   "outputs": [],
   "source": [
    "#set up to reflect database\n",
    "Base = automap_base()\n",
    "engine = create_engine(\"sqlite:///hawaii.sqlite\")"
   ]
  },
  {
   "cell_type": "code",
   "execution_count": 5,
   "metadata": {
    "collapsed": true
   },
   "outputs": [],
   "source": [
    "#reflect the database tables\n",
    "Base.prepare(engine, reflect=True)"
   ]
  },
  {
   "cell_type": "code",
   "execution_count": 6,
   "metadata": {},
   "outputs": [
    {
     "data": {
      "text/plain": [
       "['measurement', 'station']"
      ]
     },
     "execution_count": 6,
     "metadata": {},
     "output_type": "execute_result"
    }
   ],
   "source": [
    "Base.classes.keys()"
   ]
  },
  {
   "cell_type": "code",
   "execution_count": 7,
   "metadata": {
    "collapsed": true
   },
   "outputs": [],
   "source": [
    "Station = Base.classes.station"
   ]
  },
  {
   "cell_type": "code",
   "execution_count": 8,
   "metadata": {
    "collapsed": true
   },
   "outputs": [],
   "source": [
    "Measurement = Base.classes.measurement"
   ]
  },
  {
   "cell_type": "code",
   "execution_count": 9,
   "metadata": {
    "collapsed": true
   },
   "outputs": [],
   "source": [
    "session = Session(engine)"
   ]
  },
  {
   "cell_type": "markdown",
   "metadata": {},
   "source": [
    "## Precipitation Analysis"
   ]
  },
  {
   "cell_type": "code",
   "execution_count": 10,
   "metadata": {
    "collapsed": true
   },
   "outputs": [],
   "source": [
    "#query to select the last 12 months of preciptation data; select date and prcp\n",
    "\n",
    "#first select the latest date\n",
    "result = session.query(Measurement.date).order_by(Measurement.date.desc()).first()\n",
    "latest_date = result[0]\n",
    "\n",
    "#change latest_date to 1 year earlier\n",
    "new_date = date_minus_one_year(latest_date)\n",
    "\n",
    "#select date and precip for last 12 months\n",
    "results = session.query(Measurement.date, Measurement.prcp).\\\n",
    "            filter(Measurement.date >= new_date ).\\\n",
    "            order_by(Measurement.date).all()\n",
    "            \n",
    "\n"
   ]
  },
  {
   "cell_type": "code",
   "execution_count": 11,
   "metadata": {},
   "outputs": [
    {
     "data": {
      "text/html": [
       "<div>\n",
       "<style>\n",
       "    .dataframe thead tr:only-child th {\n",
       "        text-align: right;\n",
       "    }\n",
       "\n",
       "    .dataframe thead th {\n",
       "        text-align: left;\n",
       "    }\n",
       "\n",
       "    .dataframe tbody tr th {\n",
       "        vertical-align: top;\n",
       "    }\n",
       "</style>\n",
       "<table border=\"1\" class=\"dataframe\">\n",
       "  <thead>\n",
       "    <tr style=\"text-align: right;\">\n",
       "      <th></th>\n",
       "      <th>prcp</th>\n",
       "    </tr>\n",
       "    <tr>\n",
       "      <th>date</th>\n",
       "      <th></th>\n",
       "    </tr>\n",
       "  </thead>\n",
       "  <tbody>\n",
       "    <tr>\n",
       "      <th>2016-08-23</th>\n",
       "      <td>0.00</td>\n",
       "    </tr>\n",
       "    <tr>\n",
       "      <th>2016-08-23</th>\n",
       "      <td>0.15</td>\n",
       "    </tr>\n",
       "    <tr>\n",
       "      <th>2016-08-23</th>\n",
       "      <td>0.05</td>\n",
       "    </tr>\n",
       "    <tr>\n",
       "      <th>2016-08-23</th>\n",
       "      <td>0.00</td>\n",
       "    </tr>\n",
       "    <tr>\n",
       "      <th>2016-08-23</th>\n",
       "      <td>0.02</td>\n",
       "    </tr>\n",
       "  </tbody>\n",
       "</table>\n",
       "</div>"
      ],
      "text/plain": [
       "            prcp\n",
       "date            \n",
       "2016-08-23  0.00\n",
       "2016-08-23  0.15\n",
       "2016-08-23  0.05\n",
       "2016-08-23  0.00\n",
       "2016-08-23  0.02"
      ]
     },
     "execution_count": 11,
     "metadata": {},
     "output_type": "execute_result"
    }
   ],
   "source": [
    "precip_df = pd.DataFrame(results, columns=[\"date\",\"prcp\"]) \n",
    "#make the date the index\n",
    "precip_df = precip_df.set_index(\"date\")\n",
    "precip_df.head()"
   ]
  },
  {
   "cell_type": "code",
   "execution_count": 12,
   "metadata": {},
   "outputs": [
    {
     "data": {
      "text/html": [
       "<div>\n",
       "<style>\n",
       "    .dataframe thead tr:only-child th {\n",
       "        text-align: right;\n",
       "    }\n",
       "\n",
       "    .dataframe thead th {\n",
       "        text-align: left;\n",
       "    }\n",
       "\n",
       "    .dataframe tbody tr th {\n",
       "        vertical-align: top;\n",
       "    }\n",
       "</style>\n",
       "<table border=\"1\" class=\"dataframe\">\n",
       "  <thead>\n",
       "    <tr style=\"text-align: right;\">\n",
       "      <th></th>\n",
       "      <th>prcp</th>\n",
       "    </tr>\n",
       "  </thead>\n",
       "  <tbody>\n",
       "    <tr>\n",
       "      <th>count</th>\n",
       "      <td>2230.000000</td>\n",
       "    </tr>\n",
       "    <tr>\n",
       "      <th>mean</th>\n",
       "      <td>0.160664</td>\n",
       "    </tr>\n",
       "    <tr>\n",
       "      <th>std</th>\n",
       "      <td>0.442067</td>\n",
       "    </tr>\n",
       "    <tr>\n",
       "      <th>min</th>\n",
       "      <td>0.000000</td>\n",
       "    </tr>\n",
       "    <tr>\n",
       "      <th>25%</th>\n",
       "      <td>0.000000</td>\n",
       "    </tr>\n",
       "    <tr>\n",
       "      <th>50%</th>\n",
       "      <td>0.010000</td>\n",
       "    </tr>\n",
       "    <tr>\n",
       "      <th>75%</th>\n",
       "      <td>0.110000</td>\n",
       "    </tr>\n",
       "    <tr>\n",
       "      <th>max</th>\n",
       "      <td>6.700000</td>\n",
       "    </tr>\n",
       "  </tbody>\n",
       "</table>\n",
       "</div>"
      ],
      "text/plain": [
       "              prcp\n",
       "count  2230.000000\n",
       "mean      0.160664\n",
       "std       0.442067\n",
       "min       0.000000\n",
       "25%       0.000000\n",
       "50%       0.010000\n",
       "75%       0.110000\n",
       "max       6.700000"
      ]
     },
     "execution_count": 12,
     "metadata": {},
     "output_type": "execute_result"
    }
   ],
   "source": [
    "#summary statistics for preciptation over the last year\n",
    "precip_df.describe()"
   ]
  },
  {
   "cell_type": "code",
   "execution_count": 13,
   "metadata": {
    "scrolled": true
   },
   "outputs": [
    {
     "data": {
      "image/png": "[encoded data removed]",
      "text/plain": [
       "<matplotlib.figure.Figure at 0x11671ec50>"
      ]
     },
     "metadata": {},
     "output_type": "display_data"
    }
   ],
   "source": [
    "#plot the precipitation results using Pandas plotting\n",
    "\n",
    "pre_plot = precip_df.iloc[::1].plot(title=\"Precipitation from %s to %s\" % (new_date, latest_date)\\\n",
    "    ,figsize=(10,4))\n",
    "\n",
    "plt.xlabel(\"Date\")\n",
    "plt.ylabel(\"Precipitation\")\n",
    "\n",
    "plt.tight_layout()\n",
    "plt.savefig(\"precip_in_hawaii.png\")\n",
    "plt.show()\n"
   ]
  },
  {
   "cell_type": "markdown",
   "metadata": {},
   "source": [
    "## Station Analysis\n"
   ]
  },
  {
   "cell_type": "code",
   "execution_count": 14,
   "metadata": {},
   "outputs": [
    {
     "name": "stdout",
     "output_type": "stream",
     "text": [
      "9\n"
     ]
    }
   ],
   "source": [
    "#query number of stations\n",
    "number_stations = session.query(Station.station_id).count()\n",
    "print(number_stations)"
   ]
  },
  {
   "cell_type": "code",
   "execution_count": 15,
   "metadata": {},
   "outputs": [
    {
     "data": {
      "text/plain": [
       "[('USC00519281', 'WAIHEE 837.5, HI US', 2772),\n",
       " ('USC00519397', 'WAIKIKI 717.2, HI US', 2724),\n",
       " ('USC00513117', 'KANEOHE 838.1, HI US', 2709),\n",
       " ('USC00519523', 'WAIMANALO EXPERIMENTAL FARM, HI US', 2669),\n",
       " ('USC00516128', 'MANOA LYON ARBO 785.2, HI US', 2612),\n",
       " ('USC00514830', 'KUALOA RANCH HEADQUARTERS 886.9, HI US', 2202),\n",
       " ('USC00511918', 'HONOLULU OBSERVATORY 702.2, HI US', 1979),\n",
       " ('USC00517948', 'PEARL CITY, HI US', 1372),\n",
       " ('USC00518838', 'UPPER WAHIAWA 874.3, HI US', 511)]"
      ]
     },
     "execution_count": 15,
     "metadata": {},
     "output_type": "execute_result"
    }
   ],
   "source": [
    "#query most active stations\n",
    "# list stations and observation counts in descending order\n",
    "#join with station to get the station name\n",
    "\n",
    "\n",
    "results = session.query(Measurement.station, Station.name, func.count(Measurement.measurement_id) ).\\\n",
    "    filter(Measurement.station == Station.station ).  \\\n",
    "        group_by(Measurement.station).order_by(func.count(Measurement.measurement_id).desc()).all()\n",
    " \n",
    "   \n",
    "results\n",
    "\n"
   ]
  },
  {
   "cell_type": "code",
   "execution_count": 16,
   "metadata": {},
   "outputs": [
    {
     "data": {
      "text/plain": [
       "{'HONOLULU OBSERVATORY 702.2, HI US': 1979,\n",
       " 'KANEOHE 838.1, HI US': 2709,\n",
       " 'KUALOA RANCH HEADQUARTERS 886.9, HI US': 2202,\n",
       " 'MANOA LYON ARBO 785.2, HI US': 2612,\n",
       " 'PEARL CITY, HI US': 1372,\n",
       " 'UPPER WAHIAWA 874.3, HI US': 511,\n",
       " 'WAIHEE 837.5, HI US': 2772,\n",
       " 'WAIKIKI 717.2, HI US': 2724,\n",
       " 'WAIMANALO EXPERIMENTAL FARM, HI US': 2669}"
      ]
     },
     "execution_count": 16,
     "metadata": {},
     "output_type": "execute_result"
    }
   ],
   "source": [
    "station_dict = {}\n",
    "for s in results:\n",
    "    station_dict[s.name] = s[2]\n",
    "station_dict    "
   ]
  },
  {
   "cell_type": "code",
   "execution_count": 17,
   "metadata": {},
   "outputs": [
    {
     "name": "stdout",
     "output_type": "stream",
     "text": [
      "The station with the highest number of observations is WAIHEE 837.5, HI US with 2772 observations.\n"
     ]
    }
   ],
   "source": [
    "# which station has highest number of observations?\n",
    "highest_station = results[0][0]\n",
    "\n",
    "print(\"The station with the highest number of observations is %s with %s observations.\" %\\\n",
    "         (results[0][1], results[0][2]) )"
   ]
  },
  {
   "cell_type": "code",
   "execution_count": 19,
   "metadata": {},
   "outputs": [
    {
     "data": {
      "text/html": [
       "<div>\n",
       "<style>\n",
       "    .dataframe thead tr:only-child th {\n",
       "        text-align: right;\n",
       "    }\n",
       "\n",
       "    .dataframe thead th {\n",
       "        text-align: left;\n",
       "    }\n",
       "\n",
       "    .dataframe tbody tr th {\n",
       "        vertical-align: top;\n",
       "    }\n",
       "</style>\n",
       "<table border=\"1\" class=\"dataframe\">\n",
       "  <thead>\n",
       "    <tr style=\"text-align: right;\">\n",
       "      <th></th>\n",
       "      <th>date</th>\n",
       "      <th>tobs</th>\n",
       "    </tr>\n",
       "  </thead>\n",
       "  <tbody>\n",
       "    <tr>\n",
       "      <th>0</th>\n",
       "      <td>2016-08-23</td>\n",
       "      <td>77</td>\n",
       "    </tr>\n",
       "    <tr>\n",
       "      <th>1</th>\n",
       "      <td>2016-08-24</td>\n",
       "      <td>77</td>\n",
       "    </tr>\n",
       "    <tr>\n",
       "      <th>2</th>\n",
       "      <td>2016-08-25</td>\n",
       "      <td>80</td>\n",
       "    </tr>\n",
       "    <tr>\n",
       "      <th>3</th>\n",
       "      <td>2016-08-26</td>\n",
       "      <td>80</td>\n",
       "    </tr>\n",
       "    <tr>\n",
       "      <th>4</th>\n",
       "      <td>2016-08-27</td>\n",
       "      <td>75</td>\n",
       "    </tr>\n",
       "  </tbody>\n",
       "</table>\n",
       "</div>"
      ],
      "text/plain": [
       "         date  tobs\n",
       "0  2016-08-23    77\n",
       "1  2016-08-24    77\n",
       "2  2016-08-25    80\n",
       "3  2016-08-26    80\n",
       "4  2016-08-27    75"
      ]
     },
     "execution_count": 19,
     "metadata": {},
     "output_type": "execute_result"
    }
   ],
   "source": [
    "#query to select the last 12 months of temperature observation data (tobs) \n",
    "#  for the station with the highest number of observations\n",
    "\n",
    "results = session.query(Measurement.date, Measurement.tobs).\\\n",
    "            filter(and_(Measurement.date >= new_date, Measurement.station == highest_station)).all()\n",
    "                  \n",
    "#results\n",
    "tobs_df = pd.DataFrame(results, columns=[\"date\",\"tobs\"]) \n",
    "tobs_df.head()"
   ]
  },
  {
   "cell_type": "code",
   "execution_count": 20,
   "metadata": {},
   "outputs": [
    {
     "data": {
      "image/png": "[encoded data removed]",
      "text/plain": [
       "<matplotlib.figure.Figure at 0x119c24160>"
      ]
     },
     "metadata": {},
     "output_type": "display_data"
    }
   ],
   "source": [
    "#plot results as histogram with bins=12\n",
    "sns.distplot(tobs_df[\"tobs\"], bins=12,norm_hist=False,kde=False)\n",
    "plt.savefig(\"tobs_histogram_hawaii.png\")\n",
    "plt.show()"
   ]
  },
  {
   "cell_type": "code",
   "execution_count": 21,
   "metadata": {},
   "outputs": [
    {
     "name": "stdout",
     "output_type": "stream",
     "text": [
      "min/avg/max: 56, 68.25714285714285, 78\n"
     ]
    }
   ],
   "source": [
    "#function accepts a start date and end date in the format %Y-%m-%d and returns the minimum, \n",
    "# average, and maximum temperatures for that range of dates.\n",
    "def calc_temps(start_date, end_date):\n",
    "    \n",
    "    \n",
    "    results = session.query(Measurement.date, Measurement.tobs).\\\n",
    "            filter(and_(Measurement.date >= start_date, Measurement.date <= end_date)).all()\n",
    "    temps_df = pd.DataFrame(results, columns=[\"date\",\"tobs\"]) \n",
    "    \n",
    "    min_temp = temps_df[\"tobs\"].min()\n",
    "    max_temp = temps_df[\"tobs\"].max()\n",
    "    avg_temp = temps_df[\"tobs\"].mean()\n",
    "    \n",
    "    \n",
    "    return (min_temp, avg_temp, max_temp)\n",
    "\n",
    "#call calc_temps for dates\n",
    "trip_min_temp, trip_avg_temp, trip_max_temp = calc_temps(new_start_date, new_end_date)\n",
    "print(\"min/avg/max: %s, %s, %s\" % (trip_min_temp, trip_avg_temp, trip_max_temp))"
   ]
  },
  {
   "cell_type": "markdown",
   "metadata": {},
   "source": [
    "## Temperature Analysis"
   ]
  },
  {
   "cell_type": "code",
   "execution_count": 29,
   "metadata": {},
   "outputs": [
    {
     "data": {
      "image/png": "[encoded data removed]",
      "text/plain": [
       "<matplotlib.figure.Figure at 0x11a16f0b8>"
      ]
     },
     "metadata": {},
     "output_type": "display_data"
    }
   ],
   "source": [
    "#plot in a bar chart\n",
    "x_axis = [1]\n",
    "\n",
    "plt.bar(x_axis, trip_avg_temp, color=\"purple\", alpha=0.5, align=\"center\",yerr=trip_max_temp - trip_min_temp, width=0.1)\n",
    "plt.title(\"Trip Avg Temp for %s to %s\" % (new_start_date, new_end_date))\n",
    "plt.ylabel(\"Temp(F)\")\n",
    "plt.grid(axis='y',color='gray', linestyle='dashed')\n",
    "plt.tick_params(axis='x', bottom='off',labelbottom='off')\n",
    "plt.savefig(\"TripAvgTemp.png\")\n",
    "plt.show()"
   ]
  },
  {
   "cell_type": "markdown",
   "metadata": {},
   "source": [
    "## Optional Recommended Analysis\n",
    "### Rainfall per weather station for previous year's matching dates"
   ]
  },
  {
   "cell_type": "code",
   "execution_count": 23,
   "metadata": {},
   "outputs": [
    {
     "data": {
      "text/plain": [
       "station\n",
       "USC00511918    0.19\n",
       "USC00513117    1.03\n",
       "USC00514830    0.71\n",
       "USC00516128    3.58\n",
       "USC00517948    0.00\n",
       "USC00519281    2.57\n",
       "USC00519397    0.65\n",
       "USC00519523    0.46\n",
       "Name: prcp, dtype: float64"
      ]
     },
     "execution_count": 23,
     "metadata": {},
     "output_type": "execute_result"
    }
   ],
   "source": [
    "#calculate rainfall for per weather station using previous year's matching dates (new_start_date, new_end_date)\n",
    "results = session.query(Measurement.prcp, Measurement.station).\\\n",
    "            filter(and_(Measurement.date >= new_start_date, Measurement.date <= new_end_date))\\\n",
    "            .all()\n",
    "\n",
    "#store in dataframe and group by station\n",
    "rain_df = pd.DataFrame(results, columns=[\"prcp\", \"station\"]) \n",
    "\n",
    "rain_by_station = rain_df.groupby([\"station\"])\n",
    "rain_by_station[\"prcp\"].sum()"
   ]
  },
  {
   "cell_type": "markdown",
   "metadata": {},
   "source": [
    "### Calculate the daily normals. Normals are the averages for min, avg, and max temperatures.\n"
   ]
  },
  {
   "cell_type": "code",
   "execution_count": 24,
   "metadata": {},
   "outputs": [
    {
     "name": "stdout",
     "output_type": "stream",
     "text": [
      "daily normals: 58, 68.54716981132076, 76\n"
     ]
    },
    {
     "data": {
      "text/plain": [
       "('2016-03-15', 58, 68.54716981132076, 76)"
      ]
     },
     "execution_count": 24,
     "metadata": {},
     "output_type": "execute_result"
    }
   ],
   "source": [
    "# Create a function called daily_normals that will calculate the daily normals for a specific date. \n",
    "# This date string will be in the format %m-%d. Be sure to use all historic tobs that match that date string.\n",
    "\n",
    "def daily_normals(date):\n",
    "    #use just the month and day part of the date\n",
    "    results = session.query(Measurement.tobs).filter(Measurement.date.like(\"%\"+date[5:10])).all()\n",
    "    temps_df = pd.DataFrame(results, columns=[\"tobs\"])\n",
    "    normal_min = temps_df[\"tobs\"].min()\n",
    "    normal_avg = temps_df[\"tobs\"].mean()\n",
    "    normal_max = temps_df[\"tobs\"].max()\n",
    "    print(\"daily normals: %s, %s, %s\" % (normal_min, normal_avg, normal_max))\n",
    "    return date, normal_min, normal_avg, normal_max\n",
    "\n",
    "daily_normals(input_end_date)    \n"
   ]
  },
  {
   "cell_type": "code",
   "execution_count": 25,
   "metadata": {},
   "outputs": [
    {
     "name": "stdout",
     "output_type": "stream",
     "text": [
      "['2016-03-01', '2016-03-02', '2016-03-03', '2016-03-04', '2016-03-05', '2016-03-06', '2016-03-07', '2016-03-08', '2016-03-09', '2016-03-10', '2016-03-11', '2016-03-12', '2016-03-13', '2016-03-14', '2016-03-15']\n"
     ]
    }
   ],
   "source": [
    "# Create a list of dates for your trip in the format %y-%m-%d. \n",
    "date_list = []\n",
    "current_date = input_start_date\n",
    "while(current_date <= input_end_date):\n",
    "    date_list.append(current_date)\n",
    "    #increment to the next date\n",
    "    date1 = datetime.strptime(current_date, '%Y-%m-%d')\n",
    "    date2 = date1 + timedelta(days=1)\n",
    "    current_date = datetime.strftime(date2, '%Y-%m-%d')\n",
    " \n",
    "print(date_list)"
   ]
  },
  {
   "cell_type": "code",
   "execution_count": 26,
   "metadata": {},
   "outputs": [
    {
     "name": "stdout",
     "output_type": "stream",
     "text": [
      "daily normals: 64, 70.0327868852459, 76\n",
      "daily normals: 61, 70.36666666666666, 78\n",
      "daily normals: 60, 70.06896551724138, 78\n",
      "daily normals: 57, 69.27272727272727, 77\n",
      "daily normals: 60, 67.89090909090909, 76\n",
      "daily normals: 60, 69.20338983050847, 76\n",
      "daily normals: 60, 69.17241379310344, 78\n",
      "daily normals: 59, 68.72413793103448, 78\n",
      "daily normals: 57, 68.56140350877193, 75\n",
      "daily normals: 57, 69.12280701754386, 75\n",
      "daily normals: 60, 69.89285714285714, 82\n",
      "daily normals: 62, 69.88888888888889, 80\n",
      "daily normals: 56, 69.29629629629629, 77\n",
      "daily normals: 62, 70.32758620689656, 77\n",
      "daily normals: 58, 68.54716981132076, 76\n"
     ]
    }
   ],
   "source": [
    "# Use the daily_normals function to calculate the normals for each date string and append the results to a list.\n",
    "normals_list=[]\n",
    "for dt in date_list:\n",
    "    normals_list.append(daily_normals(dt))\n",
    "    "
   ]
  },
  {
   "cell_type": "code",
   "execution_count": 27,
   "metadata": {},
   "outputs": [
    {
     "data": {
      "text/html": [
       "<div>\n",
       "<style>\n",
       "    .dataframe thead tr:only-child th {\n",
       "        text-align: right;\n",
       "    }\n",
       "\n",
       "    .dataframe thead th {\n",
       "        text-align: left;\n",
       "    }\n",
       "\n",
       "    .dataframe tbody tr th {\n",
       "        vertical-align: top;\n",
       "    }\n",
       "</style>\n",
       "<table border=\"1\" class=\"dataframe\">\n",
       "  <thead>\n",
       "    <tr style=\"text-align: right;\">\n",
       "      <th></th>\n",
       "      <th>tmin</th>\n",
       "      <th>tavg</th>\n",
       "      <th>tmax</th>\n",
       "    </tr>\n",
       "    <tr>\n",
       "      <th>date</th>\n",
       "      <th></th>\n",
       "      <th></th>\n",
       "      <th></th>\n",
       "    </tr>\n",
       "  </thead>\n",
       "  <tbody>\n",
       "    <tr>\n",
       "      <th>2016-03-01</th>\n",
       "      <td>64</td>\n",
       "      <td>70.032787</td>\n",
       "      <td>76</td>\n",
       "    </tr>\n",
       "    <tr>\n",
       "      <th>2016-03-02</th>\n",
       "      <td>61</td>\n",
       "      <td>70.366667</td>\n",
       "      <td>78</td>\n",
       "    </tr>\n",
       "    <tr>\n",
       "      <th>2016-03-03</th>\n",
       "      <td>60</td>\n",
       "      <td>70.068966</td>\n",
       "      <td>78</td>\n",
       "    </tr>\n",
       "    <tr>\n",
       "      <th>2016-03-04</th>\n",
       "      <td>57</td>\n",
       "      <td>69.272727</td>\n",
       "      <td>77</td>\n",
       "    </tr>\n",
       "    <tr>\n",
       "      <th>2016-03-05</th>\n",
       "      <td>60</td>\n",
       "      <td>67.890909</td>\n",
       "      <td>76</td>\n",
       "    </tr>\n",
       "  </tbody>\n",
       "</table>\n",
       "</div>"
      ],
      "text/plain": [
       "            tmin       tavg  tmax\n",
       "date                             \n",
       "2016-03-01    64  70.032787    76\n",
       "2016-03-02    61  70.366667    78\n",
       "2016-03-03    60  70.068966    78\n",
       "2016-03-04    57  69.272727    77\n",
       "2016-03-05    60  67.890909    76"
      ]
     },
     "execution_count": 27,
     "metadata": {},
     "output_type": "execute_result"
    }
   ],
   "source": [
    "# Load the list of daily normals into a Pandas DataFrame and set the index equal to the date.\n",
    "daily_normals_df = pd.DataFrame(normals_list, columns=[\"date\", \"tmin\",\"tavg\",\"tmax\"])\n",
    "daily_normals_df = daily_normals_df.set_index(\"date\")\n",
    "daily_normals_df.head()"
   ]
  },
  {
   "cell_type": "code",
   "execution_count": 28,
   "metadata": {},
   "outputs": [
    {
     "data": {
      "image/png": "[encoded data removed]",
      "text/plain": [
       "<matplotlib.figure.Figure at 0x11a0edd30>"
      ]
     },
     "metadata": {},
     "output_type": "display_data"
    }
   ],
   "source": [
    "# Use Pandas to plot an area plot (stacked=False) for the daily normals.\n",
    "daily_normals_df.plot.area(stacked=False, figsize=(10,6))\n",
    "plt.savefig(\"daily_normals_hawaii.png\")\n",
    "plt.show()"
   ]
  },
  {
   "cell_type": "code",
   "execution_count": null,
   "metadata": {
    "collapsed": true
   },
   "outputs": [],
   "source": []
  }
 ],
 "metadata": {
  "kernelspec": {
   "display_name": "Python 3",
   "language": "python",
   "name": "python3"
  },
  "language_info": {
   "codemirror_mode": {
    "name": "ipython",
    "version": 3
   },
   "file_extension": ".py",
   "mimetype": "text/x-python",
   "name": "python",
   "nbconvert_exporter": "python",
   "pygments_lexer": "ipython3",
   "version": "3.6.1"
  }
 },
 "nbformat": 4,
 "nbformat_minor": 2
}
